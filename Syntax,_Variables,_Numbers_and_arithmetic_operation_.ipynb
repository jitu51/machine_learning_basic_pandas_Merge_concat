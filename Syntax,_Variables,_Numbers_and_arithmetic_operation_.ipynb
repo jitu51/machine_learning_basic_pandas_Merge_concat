{
  "nbformat": 4,
  "nbformat_minor": 0,
  "metadata": {
    "colab": {
      "name": "Syntax, Variables, Numbers and arithmetic operation .ipynb",
      "provenance": [],
      "collapsed_sections": [],
      "authorship_tag": "ABX9TyPlbV/CAv6LOkXCsyxW4FNW",
      "include_colab_link": true
    },
    "kernelspec": {
      "name": "python3",
      "display_name": "Python 3"
    }
  },
  "cells": [
    {
      "cell_type": "markdown",
      "metadata": {
        "id": "view-in-github",
        "colab_type": "text"
      },
      "source": [
        "<a href=\"https://colab.research.google.com/github/jitu51/machine_learning_basic_pandas_Merge_concat/blob/master/Syntax%2C_Variables%2C_Numbers_and_arithmetic_operation_.ipynb\" target=\"_parent\"><img src=\"https://colab.research.google.com/assets/colab-badge.svg\" alt=\"Open In Colab\"/></a>"
      ]
    },
    {
      "cell_type": "markdown",
      "metadata": {
        "id": "c3JUGeQQfbPz"
      },
      "source": [
        "Hello, Python!\n",
        "Python was named for the British comedy troupe Monty Python, so we'll make our first Python program an homage to their skit about Spam?\n",
        "\n",
        "Just for fun, try reading over the code below and predicting what it's going to do when run. (If you have no idea, that's fine!)"
      ]
    },
    {
      "cell_type": "code",
      "metadata": {
        "id": "5rMjveM7iQTb",
        "outputId": "ad15f2b2-6512-4f12-935f-df4560603e76",
        "colab": {
          "base_uri": "https://localhost:8080/",
          "height": 68
        }
      },
      "source": [
        "spam_amount =0\n",
        "print(spam_amount)\n",
        "# Ordering Spam, egg, Spam, Spam, bacon and Spam (4 more servings of Spam)\n",
        "spam_amount = spam_amount + 4\n",
        "if spam_amount > 0:\n",
        "  print(\"But, i don't want any spa\")\n",
        "viking_song = \"spam \"*spam_amount\n",
        "print(viking_song)"
      ],
      "execution_count": 3,
      "outputs": [
        {
          "output_type": "stream",
          "text": [
            "0\n",
            "But, i don't want any spa\n",
            "spam spam spam spam \n"
          ],
          "name": "stdout"
        }
      ]
    },
    {
      "cell_type": "markdown",
      "metadata": {
        "id": "lAn32J60lH1h"
      },
      "source": [
        "There's a lot to unpack here! This silly program demonstrates many important aspects of what Python code looks like and how it works. Let's review the code from top to bottom."
      ]
    },
    {
      "cell_type": "code",
      "metadata": {
        "id": "ybWaDulVlMzB"
      },
      "source": [
        "spam_amount = 0"
      ],
      "execution_count": 4,
      "outputs": []
    },
    {
      "cell_type": "markdown",
      "metadata": {
        "id": "aStlmxLzllkK"
      },
      "source": [
        "Variable assignment: Here we create a variable called spam_amount and assign it the value of 0 using =, which is called the assignment operator.\n",
        "\n",
        "Aside: If you've programmed in certain other languages (like Java or C++), you might be noticing some things Python doesn't require us to do here:\n",
        "\n",
        "we don't need to \"declare\" spam_amount before assigning to it\n",
        "we don't need to tell Python what type of value spam_amount is going to refer to. In fact, we can even go on to reassign spam_amount to refer to a different sort of thing like a string or a boolean."
      ]
    },
    {
      "cell_type": "code",
      "metadata": {
        "id": "SajBEbEul1OL",
        "outputId": "8b0e1372-610d-4d70-bd61-7bf23206a925",
        "colab": {
          "base_uri": "https://localhost:8080/",
          "height": 34
        }
      },
      "source": [
        "print(spam_amount)"
      ],
      "execution_count": 5,
      "outputs": [
        {
          "output_type": "stream",
          "text": [
            "0\n"
          ],
          "name": "stdout"
        }
      ]
    },
    {
      "cell_type": "markdown",
      "metadata": {
        "id": "qJTUjIyDsK9j"
      },
      "source": [
        "In python, no need to initialize variable. Here is an elemple.\n",
        "\n",
        "Lets see, what happens\n",
        "\n",
        "Iniatially, spam_amount takes as boolean variable as True\n",
        "\n"
      ]
    },
    {
      "cell_type": "code",
      "metadata": {
        "id": "UqueIAdul90R",
        "outputId": "69f8762d-ca69-403f-852f-229f6d77969f",
        "colab": {
          "base_uri": "https://localhost:8080/",
          "height": 119
        }
      },
      "source": [
        "spam_amount\n",
        "print(\"first spam_amount\",spam_amount)\n",
        "# Ordering Spam, egg, Spam, Spam, bacon and Spam (4 more servings of Spam)\n",
        "spam_amount = spam_amount + 4\n",
        "print(\"second spam_amount\",spam_amount)\n",
        "if spam_amount > 0:\n",
        "  print(\"But, i don't want any spam\")\n",
        "viking_song = \"spam \"*spam_amount\n",
        "print(viking_song)\n",
        "\n",
        "if spam_amount == 4:\n",
        "  spam_amount = True\n",
        "else:\n",
        "  spam_amount = False\n",
        "print(\"New variable spam_amount as boolean \\n\", spam_amount)"
      ],
      "execution_count": 6,
      "outputs": [
        {
          "output_type": "stream",
          "text": [
            "first spam_amount 0\n",
            "second spam_amount 4\n",
            "But, i don't want any spam\n",
            "spam spam spam spam \n",
            "New variable spam_amount as boolean \n",
            " True\n"
          ],
          "name": "stdout"
        }
      ]
    },
    {
      "cell_type": "markdown",
      "metadata": {
        "id": "NYPSTec4FTnR"
      },
      "source": [
        "We won't talk much about \"conditionals\" until later, but, even if you've never coded before, you can probably guess what this does. Python is prized for its readability and the simplicity.\n",
        "\n",
        "Note how we indicated which code belongs to the if. \"But I don't want ANY spam!\" is only supposed to be printed if spam_amount is positive. But the later code (like print(viking_song)) should be executed no matter what. How do we (and Python) know that?\n",
        "\n",
        "The colon (:) at the end of the if line indicates that a new \"code block\" is starting. Subsequent lines which are indented are part of that code block. Some other languages use {curly braces} to mark the beginning and end of code blocks. Python's use of meaningful whitespace can be surprising to programmers who are accustomed to other languages, but in practice it can lead to more consistent and readable code than languages that do not enforce indentation of code blocks.\n",
        "\n",
        "The later lines dealing with viking_song are not indented with an extra 4 spaces, so they're not a part of the if's code block. We'll see more examples of indented code blocks later when we define functions and using loops.\n",
        "\n",
        "This code snippet is also our first sighting of a string in Python:\n",
        "\n",
        "\"But I don't want ANY spam!\"\n",
        "Strings can be marked either by double or single quotation marks. (But because this particular string contains a single-quote character, we might confuse Python by trying to surround it with single-quotes, unless we're caref"
      ]
    },
    {
      "cell_type": "code",
      "metadata": {
        "id": "VoIxMFEUIt07",
        "outputId": "90fede9f-2ae6-48f7-a215-1432c30455ba",
        "colab": {
          "base_uri": "https://localhost:8080/",
          "height": 34
        }
      },
      "source": [
        "spam_amount = 4\n",
        "viking_song = \"spam\"*spam_amount\n",
        "print(viking_song, sep=' ', end='\\n')"
      ],
      "execution_count": 7,
      "outputs": [
        {
          "output_type": "stream",
          "text": [
            "spamspamspamspam\n"
          ],
          "name": "stdout"
        }
      ]
    },
    {
      "cell_type": "code",
      "metadata": {
        "id": "ePMMF43hNOzq",
        "outputId": "0af18f0e-6dac-4c4d-cd82-80c403a33b20",
        "colab": {
          "base_uri": "https://localhost:8080/",
          "height": 34
        }
      },
      "source": [
        "print('G','F','G', viking_song, sep=',,,, ', end='-') \n",
        "type(viking_song)"
      ],
      "execution_count": 8,
      "outputs": [
        {
          "output_type": "stream",
          "text": [
            "G,,,, F,,,, G,,,, spamspamspamspam-"
          ],
          "name": "stdout"
        },
        {
          "output_type": "execute_result",
          "data": {
            "text/plain": [
              "str"
            ]
          },
          "metadata": {
            "tags": []
          },
          "execution_count": 8
        }
      ]
    },
    {
      "cell_type": "code",
      "metadata": {
        "id": "JYlSAtgDN_4_",
        "outputId": "5ea40a5b-2fe1-431c-9955-eeefe635ca92",
        "colab": {
          "base_uri": "https://localhost:8080/",
          "height": 34
        }
      },
      "source": [
        "title = \"Md. \"\n",
        "first_Name = \"Jillur \"\n",
        "last_Name = \"Rahaman \"\n",
        "nick_Name = \"(Jitu)\"\n",
        "full_Name = title + first_Name + last_Name + nick_Name\n",
        "print(full_Name)"
      ],
      "execution_count": 9,
      "outputs": [
        {
          "output_type": "stream",
          "text": [
            "Md. Jillur Rahaman (Jitu)\n"
          ],
          "name": "stdout"
        }
      ]
    },
    {
      "cell_type": "code",
      "metadata": {
        "id": "bygGkSlaU6kk",
        "outputId": "db482c59-2413-44f4-f82a-d6d949052ee0",
        "colab": {
          "base_uri": "https://localhost:8080/",
          "height": 34
        }
      },
      "source": [
        "title = \"Md.\"\n",
        "first_Name = \"Jillur\"\n",
        "last_Name = \"Rahaman\"\n",
        "nick_Name = \"(Jitu)\"\n",
        "print(title, first_Name, last_Name, nick_Name, sep=\"-\", end=\"//\")"
      ],
      "execution_count": 10,
      "outputs": [
        {
          "output_type": "stream",
          "text": [
            "Md.-Jillur-Rahaman-(Jitu)//"
          ],
          "name": "stdout"
        }
      ]
    },
    {
      "cell_type": "code",
      "metadata": {
        "id": "FSyQpB3TQ19V",
        "outputId": "c3191442-15e5-4d34-8e97-8a6b3700623c",
        "colab": {
          "base_uri": "https://localhost:8080/",
          "height": 34
        }
      },
      "source": [
        "full_Name1 = [\"Md\", \" Jiilur\", \"Rahaman\", \"Jitu\"]\n",
        "print(full_Name1, sep=\",... \", end=\"-\")"
      ],
      "execution_count": 11,
      "outputs": [
        {
          "output_type": "stream",
          "text": [
            "['Md', ' Jiilur', 'Rahaman', 'Jitu']-"
          ],
          "name": "stdout"
        }
      ]
    },
    {
      "cell_type": "markdown",
      "metadata": {
        "id": "ZTOLtHi1EPRt"
      },
      "source": [
        "***Arithmatic Operation***"
      ]
    },
    {
      "cell_type": "code",
      "metadata": {
        "id": "WD4c037yqoqX",
        "outputId": "b73ff5d2-17af-47c2-d413-6317ec6279f1",
        "colab": {
          "base_uri": "https://localhost:8080/",
          "height": 697
        }
      },
      "source": [
        "a = 144\n",
        "b = 49\n",
        "iteration = 0\n",
        "opetator = [\"add\", \"subtruction\", \"multiplication\", \"True division\", \"Floor division\", \"Modulus\", \"Exponentiation\", \"Negation\"]\n",
        "\n",
        "for i in range(len(opetator)):\n",
        "  iteration +=1\n",
        "  print(\"\\n number of iterations: \", iteration,\"\\n\")\n",
        "\n",
        "  if opetator[i]=='add':\n",
        "    print(opetator[i])\n",
        "    result = a + b\n",
        "    print(\"sun of a and b: \", result)\n",
        "  elif opetator[i]=='subtruction':\n",
        "    print(opetator[i])\n",
        "    result = a - b\n",
        "    print(\"subtraction of a and b\", result)\n",
        "  elif opetator[i]=='multiplication':\n",
        "    print(opetator[i])\n",
        "    result = a*b\n",
        "    print(\"multiplication of a and b\", result)\n",
        "  elif opetator[i]=='True division':\n",
        "    print(opetator[i])\n",
        "    result = a/b\n",
        "    print(\"True division of a and b\", result)\n",
        "  elif opetator[i]=='Floor division':\n",
        "    print(opetator[i])\n",
        "    result = a//b\n",
        "    print(\"Floor division of a and b\", result)\n",
        "  elif opetator[i]=='Modulus':\n",
        "    print(opetator[i])\n",
        "    result = a//b\n",
        "    print(\"Modulus of a and b\", result)\n",
        "  elif opetator[i]=='Exponentiation':\n",
        "    print(opetator[i])\n",
        "    result = a**b\n",
        "    print(\"b raised power to a \", result)\n",
        "  elif opetator[i]=='Negation':\n",
        "    print(opetator[i])\n",
        "    result = -a, -b\n",
        "    print(\"Negation of a , b  \", result)"
      ],
      "execution_count": 12,
      "outputs": [
        {
          "output_type": "stream",
          "text": [
            "\n",
            " number of iterations:  1 \n",
            "\n",
            "add\n",
            "sun of a and b:  193\n",
            "\n",
            " number of iterations:  2 \n",
            "\n",
            "subtruction\n",
            "subtraction of a and b 95\n",
            "\n",
            " number of iterations:  3 \n",
            "\n",
            "multiplication\n",
            "multiplication of a and b 7056\n",
            "\n",
            " number of iterations:  4 \n",
            "\n",
            "True division\n",
            "True division of a and b 2.938775510204082\n",
            "\n",
            " number of iterations:  5 \n",
            "\n",
            "Floor division\n",
            "Floor division of a and b 2\n",
            "\n",
            " number of iterations:  6 \n",
            "\n",
            "Modulus\n",
            "Modulus of a and b 2\n",
            "\n",
            " number of iterations:  7 \n",
            "\n",
            "Exponentiation\n",
            "b raised power to a  5751248230695454879056140527481725680667519526763155801834735167383714717570286271095626967339291801288704\n",
            "\n",
            " number of iterations:  8 \n",
            "\n",
            "Negation\n",
            "Negation of a , b   (-144, -49)\n"
          ],
          "name": "stdout"
        }
      ]
    },
    {
      "cell_type": "markdown",
      "metadata": {
        "id": "3oR_KiZIgffb"
      },
      "source": [
        "**Swap **"
      ]
    },
    {
      "cell_type": "code",
      "metadata": {
        "id": "CxFWqQb9g1gY",
        "outputId": "187f660b-2736-4ecc-91c7-7f19e0ecc86a",
        "colab": {
          "base_uri": "https://localhost:8080/",
          "height": 34
        }
      },
      "source": [
        "c = 10\n",
        "d = 20\n",
        "temp = 20\n",
        "c = d\n",
        "d = temp\n",
        "print(\"swaped value\", c, d)\n"
      ],
      "execution_count": 13,
      "outputs": [
        {
          "output_type": "stream",
          "text": [
            "swaped value 20 20\n"
          ],
          "name": "stdout"
        }
      ]
    },
    {
      "cell_type": "code",
      "metadata": {
        "id": "cyaYCYMuhit5",
        "outputId": "d792182e-f792-416a-f791-7b8618d45d27",
        "colab": {
          "base_uri": "https://localhost:8080/",
          "height": 34
        }
      },
      "source": [
        "e = 55\n",
        "f = 68\n",
        "e , f = f, e\n",
        "print(\"swaped value\", e, f)"
      ],
      "execution_count": 14,
      "outputs": [
        {
          "output_type": "stream",
          "text": [
            "swaped value 68 55\n"
          ],
          "name": "stdout"
        }
      ]
    }
  ]
}